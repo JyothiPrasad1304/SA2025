{
 "cells": [
  {
   "cell_type": "code",
   "execution_count": 5,
   "id": "ead9765b",
   "metadata": {},
   "outputs": [],
   "source": [
    "import numpy as np\n",
    "import pandas as pd\n",
    "import tensorflow as tf\n",
    "import sklearn as sk\n",
    "\n"
   ]
  },
  {
   "cell_type": "code",
   "execution_count": 7,
   "id": "7f3b3ee3",
   "metadata": {},
   "outputs": [
    {
     "name": "stdout",
     "output_type": "stream",
     "text": [
      "[[1 1 1]\n",
      " [1 1 1]]\n",
      "You're not supposed to be here.\n",
      "You are a mistake.\n"
     ]
    }
   ],
   "source": [
    "arr1 = np.ones((2,3), dtype='int8')\n",
    "print(arr1)\n",
    "print(\"You're not supposed to be here.\\nYou are a mistake.\")"
   ]
  },
  {
   "cell_type": "code",
   "execution_count": null,
   "id": "25f82864",
   "metadata": {},
   "outputs": [],
   "source": []
  }
 ],
 "metadata": {
  "kernelspec": {
   "display_name": "IITG_venv",
   "language": "python",
   "name": "python3"
  },
  "language_info": {
   "codemirror_mode": {
    "name": "ipython",
    "version": 3
   },
   "file_extension": ".py",
   "mimetype": "text/x-python",
   "name": "python",
   "nbconvert_exporter": "python",
   "pygments_lexer": "ipython3",
   "version": "3.12.9"
  }
 },
 "nbformat": 4,
 "nbformat_minor": 5
}
